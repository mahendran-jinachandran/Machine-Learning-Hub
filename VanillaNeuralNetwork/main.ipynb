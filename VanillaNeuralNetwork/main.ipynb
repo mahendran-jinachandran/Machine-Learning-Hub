{
 "cells": [
  {
   "cell_type": "code",
   "execution_count": 1,
   "id": "6b16c70a",
   "metadata": {},
   "outputs": [],
   "source": [
    "import numpy as np\n",
    "import pandas as pd\n",
    "from sklearn.model_selection import train_test_split\n",
    "from sklearn.datasets import load_breast_cancer\n",
    "from sklearn.metrics import accuracy_score, precision_score, recall_score, f1_score, roc_auc_score"
   ]
  },
  {
   "cell_type": "code",
   "execution_count": 2,
   "id": "97c9cf23",
   "metadata": {},
   "outputs": [],
   "source": [
    "np.random.seed(42)"
   ]
  },
  {
   "cell_type": "code",
   "execution_count": 3,
   "id": "f06f6375",
   "metadata": {},
   "outputs": [],
   "source": [
    "data = load_breast_cancer()\n",
    "X, y = data.data, data.target\n",
    "X_train, X_test, y_train, y_test = train_test_split(X, y, test_size=0.2, random_state=42, stratify=y)"
   ]
  },
  {
   "cell_type": "code",
   "execution_count": 4,
   "id": "f4414ca4",
   "metadata": {},
   "outputs": [
    {
     "data": {
      "text/plain": [
       "((455, 30), (455,))"
      ]
     },
     "execution_count": 4,
     "metadata": {},
     "output_type": "execute_result"
    }
   ],
   "source": [
    "X_train.shape, y_train.shape"
   ]
  },
  {
   "cell_type": "code",
   "execution_count": 5,
   "id": "f3e40eb2",
   "metadata": {},
   "outputs": [],
   "source": [
    "def layer_sizes(X, y, hidden_layers=4):\n",
    "    n_i = X.shape[1]                # features\n",
    "    n_h = hidden_layers\n",
    "    n_o = 1 if y.ndim == 1 else y.shape[1]\n",
    "    return n_i, n_h, n_o"
   ]
  },
  {
   "cell_type": "code",
   "execution_count": 6,
   "id": "67587b35",
   "metadata": {},
   "outputs": [
    {
     "data": {
      "text/plain": [
       "(30, 4, 1)"
      ]
     },
     "execution_count": 6,
     "metadata": {},
     "output_type": "execute_result"
    }
   ],
   "source": [
    "n_i, n_h, n_o = layer_sizes(X_train, y_train)\n",
    "n_i, n_h, n_o"
   ]
  },
  {
   "cell_type": "code",
   "execution_count": 7,
   "id": "c164df82",
   "metadata": {},
   "outputs": [],
   "source": [
    "def initialize_parameters(n_i, n_h, n_o, seed=42):\n",
    "    rng = np.random.default_rng(seed)\n",
    "    W1 = rng.normal(0, 0.01, size=(n_h, n_i))\n",
    "    b1 = np.zeros((n_h, 1))\n",
    "    W2 = rng.normal(0, 0.01, size=(n_o, n_h))\n",
    "    b2 = np.zeros((n_o, 1))\n",
    "    return {\"W1\": W1, \"b1\": b1, \"W2\": W2, \"b2\": b2}"
   ]
  },
  {
   "cell_type": "code",
   "execution_count": 8,
   "id": "d0267f4b",
   "metadata": {},
   "outputs": [
    {
     "data": {
      "text/plain": [
       "{'W1': array([[ 0.00304717, -0.01039984,  0.00750451,  0.00940565, -0.01951035,\n",
       "         -0.0130218 ,  0.0012784 , -0.00316243, -0.00016801, -0.00853044,\n",
       "          0.00879398,  0.00777792,  0.00066031,  0.01127241,  0.00467509,\n",
       "         -0.00859292,  0.00368751, -0.00958883,  0.0087845 , -0.00049926,\n",
       "         -0.00184862, -0.0068093 ,  0.01222541, -0.00154529, -0.00428328,\n",
       "         -0.00352134,  0.00532309,  0.00365444,  0.00412733,  0.00430821],\n",
       "        [ 0.02141648, -0.00406415, -0.00512243, -0.00813773,  0.00615979,\n",
       "          0.01128972, -0.00113947, -0.00840156, -0.00824481,  0.00650593,\n",
       "          0.00743254,  0.00543154, -0.0066551 ,  0.00232161,  0.00116686,\n",
       "          0.00218689,  0.00871429,  0.00223596,  0.00678914,  0.00067579,\n",
       "          0.00289119,  0.00631288, -0.01457156, -0.00319671, -0.00470373,\n",
       "         -0.00638878, -0.00275142,  0.01494941, -0.00865831,  0.00968278],\n",
       "        [-0.0168287 , -0.00334885,  0.00162753,  0.00586222,  0.00711227,\n",
       "          0.00793347, -0.00348725, -0.00462352,  0.00857976, -0.00191304,\n",
       "         -0.01275686, -0.01133287, -0.00919452,  0.00497161,  0.00142426,\n",
       "          0.00690485, -0.00427253,  0.0015854 ,  0.0062559 , -0.00309347,\n",
       "          0.00456775, -0.00661926, -0.00363054, -0.00381738, -0.0119584 ,\n",
       "          0.00486972, -0.00469402,  0.00012494,  0.00480747,  0.00446531],\n",
       "        [ 0.00665385, -0.00098485, -0.00423298, -0.00079718, -0.01687334,\n",
       "         -0.01447112, -0.013227  , -0.00997247,  0.00399774, -0.00905479,\n",
       "         -0.00378163,  0.01299228, -0.00356264,  0.00737516, -0.00933618,\n",
       "         -0.00205438, -0.00950022, -0.00339033,  0.00840308, -0.0172732 ,\n",
       "          0.00434424,  0.00237736, -0.0059415 , -0.01446058,  0.0007213 ,\n",
       "         -0.00529493,  0.00232676,  0.00021852,  0.01601779, -0.00239356]]),\n",
       " 'b1': array([[0.],\n",
       "        [0.],\n",
       "        [0.],\n",
       "        [0.]]),\n",
       " 'W2': array([[-0.01023497,  0.00179276,  0.00219997,  0.01359188]]),\n",
       " 'b2': array([[0.]])}"
      ]
     },
     "execution_count": 8,
     "metadata": {},
     "output_type": "execute_result"
    }
   ],
   "source": [
    "parameters = initialize_parameters(n_i, n_h, n_o)\n",
    "parameters"
   ]
  },
  {
   "cell_type": "code",
   "execution_count": 9,
   "id": "b53f75f1",
   "metadata": {},
   "outputs": [],
   "source": [
    "def forward_propagation(X, parameters):\n",
    "    W1, b1 = parameters[\"W1\"], parameters[\"b1\"]\n",
    "    W2, b2 = parameters[\"W2\"], parameters[\"b2\"]\n",
    "\n",
    "    Z1 = W1 @ X + b1             # (n_h, m)\n",
    "    A1 = np.tanh(Z1)             # (n_h, m)\n",
    "    Z2 = W2 @ A1 + b2            # (n_o, m)\n",
    "    A2 = 1 / (1 + np.exp(-Z2))   # (n_o, m)\n",
    "\n",
    "    cache = {\"Z1\": Z1, \"A1\": A1, \"Z2\": Z2, \"A2\": A2}\n",
    "    return A2, cache"
   ]
  },
  {
   "cell_type": "code",
   "execution_count": 10,
   "id": "e9d6035f",
   "metadata": {},
   "outputs": [],
   "source": [
    "A2, cache = forward_propagation(X_train.T, parameters)"
   ]
  },
  {
   "cell_type": "code",
   "execution_count": 13,
   "id": "a9da1b66",
   "metadata": {},
   "outputs": [
    {
     "data": {
      "text/plain": [
       "(455,)"
      ]
     },
     "execution_count": 13,
     "metadata": {},
     "output_type": "execute_result"
    }
   ],
   "source": [
    "y_train.shape"
   ]
  },
  {
   "cell_type": "code",
   "execution_count": 14,
   "id": "cdfa11be",
   "metadata": {},
   "outputs": [],
   "source": [
    "def compute_cost(A2, Y):\n",
    "    m = Y.shape[0]                          # note: axis 1\n",
    "    eps = 1e-12\n",
    "    logprobs = Y*np.log(A2+eps) + (1-Y)*np.log(1-A2+eps)\n",
    "    cost = -np.sum(logprobs) / m\n",
    "    return float(cost)"
   ]
  },
  {
   "cell_type": "code",
   "execution_count": 15,
   "id": "402a0dca",
   "metadata": {},
   "outputs": [
    {
     "data": {
      "text/plain": [
       "0.6963495949974844"
      ]
     },
     "execution_count": 15,
     "metadata": {},
     "output_type": "execute_result"
    }
   ],
   "source": [
    "cost = compute_cost(A2, y_train)\n",
    "cost"
   ]
  },
  {
   "cell_type": "code",
   "execution_count": 16,
   "id": "341b5a25",
   "metadata": {},
   "outputs": [],
   "source": [
    "def backward_propagation(parameters, cache, X, Y):\n",
    "    m = X.shape[1]\n",
    "\n",
    "    W2 = parameters[\"W2\"]\n",
    "    A1, A2 = cache[\"A1\"], cache[\"A2\"]\n",
    "\n",
    "    dZ2 = A2 - Y                          # (n_o, m)\n",
    "    dW2 = (dZ2 @ A1.T) / m                # (n_o, n_h)\n",
    "    db2 = np.sum(dZ2, axis=1, keepdims=True) / m  # (n_o, 1)\n",
    "\n",
    "    dZ1 = (W2.T @ dZ2) * (1 - A1**2)      # (n_h, m)\n",
    "    dW1 = (dZ1 @ X.T) / m                 # (n_h, n_i)\n",
    "    db1 = np.sum(dZ1, axis=1, keepdims=True) / m  # (n_h, 1)\n",
    "\n",
    "    return {\"dW1\": dW1, \"db1\": db1, \"dW2\": dW2, \"db2\": db2}"
   ]
  },
  {
   "cell_type": "code",
   "execution_count": 17,
   "id": "eae19789",
   "metadata": {},
   "outputs": [
    {
     "name": "stdout",
     "output_type": "stream",
     "text": [
      "dW1 = [[ 6.66756201e-05  1.43315371e-04  4.23464822e-04  1.79027938e-03\n",
      "   7.44933334e-07  6.30567937e-07  3.26551901e-07  9.42789203e-08\n",
      "   1.43173007e-06  5.52117826e-07  2.03905513e-06  1.13749559e-05\n",
      "   1.39542986e-05  1.12436479e-04  8.61254214e-08  2.11448452e-07\n",
      "   2.63030598e-07  5.92568394e-08  1.94981257e-07  4.20207323e-08\n",
      "   7.41073461e-05  1.87052952e-04  4.74981649e-04  2.20932852e-03\n",
      "   1.09331067e-06  1.38766890e-06  1.19423369e-06  3.18619656e-07\n",
      "   2.18989439e-06  7.15403169e-07]\n",
      " [-1.92195886e-06 -4.20144111e-06 -1.21827433e-05 -4.84244475e-05\n",
      "  -2.33147110e-08 -1.94942640e-08 -9.02896761e-09 -2.35060427e-09\n",
      "  -4.43265365e-08 -1.72386878e-08 -6.21693509e-08 -3.53305890e-07\n",
      "  -4.24194916e-07 -3.27036311e-06 -2.73293580e-09 -6.34334237e-09\n",
      "  -7.34393620e-09 -1.55766840e-09 -6.25818542e-09 -1.32747174e-09\n",
      "  -2.14095264e-06 -5.49734687e-06 -1.36899579e-05 -6.00595100e-05\n",
      "  -3.39308155e-08 -4.11694006e-08 -3.19285494e-08 -7.75009981e-09\n",
      "  -6.73610503e-08 -2.21043055e-08]\n",
      " [-3.02581265e-03 -5.58804694e-03 -1.85558258e-02 -3.34521933e-02\n",
      "  -3.12005469e-05 -9.80053032e-06  1.59852987e-05  8.40001237e-06\n",
      "  -5.80488889e-05 -2.33384506e-05 -2.88283294e-05 -4.76814687e-04\n",
      "  -1.88356852e-04  3.65023966e-03 -2.93420241e-06 -4.77739497e-06\n",
      "  -5.07976006e-06 -2.06055789e-06 -7.69031049e-06 -1.28824216e-06\n",
      "  -2.87320896e-03 -7.07178197e-03 -1.75390249e-02  1.40459298e-02\n",
      "  -4.07709632e-05 -7.73070302e-06  2.63080896e-05  4.99822368e-06\n",
      "  -8.25455958e-05 -2.57289875e-05]\n",
      " [-2.69277867e-06 -5.89491620e-06 -1.70295161e-05 -6.45154349e-05\n",
      "  -3.49735571e-08 -2.81408005e-08 -1.06910429e-08 -2.52045616e-09\n",
      "  -6.52199896e-08 -2.55673435e-08 -8.67827329e-08 -5.27964086e-07\n",
      "  -5.97251401e-07 -4.37818500e-06 -4.06753194e-09 -8.62719706e-09\n",
      "  -8.80412299e-09 -1.78967405e-09 -9.56665486e-09 -1.89005561e-09\n",
      "  -2.99564368e-06 -7.76901754e-06 -1.91209918e-05 -7.97672821e-05\n",
      "  -5.01674828e-08 -5.67424760e-08 -3.72725698e-08 -8.24831874e-09\n",
      "  -9.85576793e-08 -3.22338596e-08]]\n",
      "db1 = [[ 7.64524524e-06]\n",
      " [-2.32635207e-07]\n",
      " [-3.71678849e-04]\n",
      " [-3.39932549e-07]]\n",
      "dW2 = [[-0.13239124  0.13270297 -0.051387    0.13275552]]\n",
      "db2 = [[-0.13276803]]\n"
     ]
    }
   ],
   "source": [
    "grads = backward_propagation(parameters, cache, X_train.T, y_train)\n",
    "print (\"dW1 = \"+ str(grads[\"dW1\"]))\n",
    "print (\"db1 = \"+ str(grads[\"db1\"]))\n",
    "print (\"dW2 = \"+ str(grads[\"dW2\"]))\n",
    "print (\"db2 = \"+ str(grads[\"db2\"]))"
   ]
  },
  {
   "cell_type": "code",
   "execution_count": 18,
   "id": "17003766",
   "metadata": {},
   "outputs": [],
   "source": [
    "\n",
    "def update_parameters(parameters, grads, learning_rate = 1.2):\n",
    "\n",
    "    W1 = parameters[\"W1\"]\n",
    "    b1 = parameters[\"b1\"]\n",
    "    W2 = parameters[\"W2\"]\n",
    "    b2 = parameters[\"b2\"]\n",
    "\n",
    "    dW1 = grads[\"dW1\"]\n",
    "    db1 = grads[\"db1\"]\n",
    "    dW2 = grads[\"dW2\"]\n",
    "    db2 = grads[\"db2\"]\n",
    "\n",
    "    W1 = W1 - learning_rate * dW1\n",
    "    b1 = b1 - learning_rate * db1\n",
    "    W2 = W2 - learning_rate * dW2\n",
    "    b2 = b2 - learning_rate * db2\n",
    "    \n",
    "    parameters = {\"W1\": W1,\n",
    "                  \"b1\": b1,\n",
    "                  \"W2\": W2,\n",
    "                  \"b2\": b2}\n",
    "    \n",
    "    return parameters"
   ]
  },
  {
   "cell_type": "code",
   "execution_count": 19,
   "id": "843a02a5",
   "metadata": {},
   "outputs": [],
   "source": [
    "def nn_model(X, Y, n_h, num_iterations=10000, print_cost=False):\n",
    "\n",
    "    Xc = X.T\n",
    "    Yc = Y.reshape(1, -1)                 \n",
    "\n",
    "    n_i, _, n_o = layer_sizes(X, Y)\n",
    "    parameters = initialize_parameters(n_i, n_h, n_o)\n",
    "\n",
    "    for i in range(num_iterations):\n",
    "        A2, cache = forward_propagation(Xc, parameters)\n",
    "        cost = compute_cost(A2, Yc)\n",
    "        grads = backward_propagation(parameters, cache, Xc, Yc)\n",
    "        parameters = update_parameters(parameters, grads, learning_rate=0.1)\n",
    "\n",
    "        if print_cost and i % 1000 == 0:\n",
    "            print(f\"Cost after iteration {i}: {cost:.6f}\")\n",
    "\n",
    "    return parameters\n"
   ]
  },
  {
   "cell_type": "code",
   "execution_count": 20,
   "id": "ce1a3ae9",
   "metadata": {},
   "outputs": [
    {
     "name": "stdout",
     "output_type": "stream",
     "text": [
      "Cost after iteration 0: 316.839066\n",
      "Cost after iteration 1000: 300.690231\n",
      "Cost after iteration 2000: 300.690204\n",
      "Cost after iteration 3000: 300.690195\n",
      "Cost after iteration 4000: 300.690190\n",
      "Cost after iteration 5000: 300.690187\n",
      "Cost after iteration 6000: 300.690185\n",
      "Cost after iteration 7000: 300.690184\n",
      "Cost after iteration 8000: 300.690183\n",
      "Cost after iteration 9000: 300.690182\n"
     ]
    }
   ],
   "source": [
    "n_i, n_h, n_o = layer_sizes(X_train, y_train, hidden_layers=4)\n",
    "params = nn_model(X_train, y_train, n_h=4, num_iterations=10000, print_cost=True)"
   ]
  },
  {
   "cell_type": "code",
   "execution_count": 21,
   "id": "48c224db",
   "metadata": {},
   "outputs": [
    {
     "data": {
      "text/plain": [
       "{'W1': array([[ 0.00343702, -0.0095054 ,  0.00996195,  0.01840186, -0.01950509,\n",
       "         -0.01301758,  0.00127989, -0.00316211, -0.00015822, -0.00852659,\n",
       "          0.00880634,  0.00785358,  0.00074471,  0.01188286,  0.00467568,\n",
       "         -0.00859167,  0.0036888 , -0.00958859,  0.00878583, -0.00049899,\n",
       "         -0.00140994, -0.00561349,  0.01501718,  0.00987765, -0.00427558,\n",
       "         -0.00351268,  0.00532864,  0.00365556,  0.00414217,  0.00431312],\n",
       "        [ 0.0210825 , -0.00480754, -0.00722666, -0.0157078 ,  0.00615512,\n",
       "          0.01128611, -0.00114055, -0.00840179, -0.00825334,  0.00650256,\n",
       "          0.00742181,  0.00536507, -0.00672855,  0.00180087,  0.00116635,\n",
       "          0.0021859 ,  0.00871336,  0.00223579,  0.00678796,  0.00067556,\n",
       "          0.00251538,  0.00530996, -0.01696292, -0.01279863, -0.00471045,\n",
       "         -0.00639588, -0.00275536,  0.01494863, -0.00867124,  0.00967854],\n",
       "        [-0.01659882, -0.00288868,  0.00292957,  0.00045254,  0.00711408,\n",
       "          0.00793128, -0.00349235, -0.00462608,  0.00858356, -0.0019114 ,\n",
       "         -0.01276308, -0.01128848, -0.00923752,  0.00331648,  0.00142445,\n",
       "          0.00690494, -0.00427208,  0.00158564,  0.00625644, -0.0030934 ,\n",
       "          0.00467387, -0.00612533, -0.00314917, -0.02793054, -0.01195656,\n",
       "          0.00486083, -0.00470682,  0.00012146,  0.00481122,  0.00446634],\n",
       "        [ 0.00638814, -0.00156314, -0.00590646, -0.00674459, -0.01687716,\n",
       "         -0.014474  , -0.01322773, -0.00997262,  0.00399088, -0.00905751,\n",
       "         -0.00379013,  0.012938  , -0.00362113,  0.00696828, -0.00933659,\n",
       "         -0.00205512, -0.00950085, -0.00339045,  0.00840211, -0.01727338,\n",
       "          0.00404584,  0.00159228, -0.00784004, -0.0219649 ,  0.00071588,\n",
       "         -0.00530039,  0.00232412,  0.00021801,  0.01600741, -0.00239694]]),\n",
       " 'b1': array([[ 5.07897701e-05],\n",
       "        [-4.41691913e-05],\n",
       "        [ 3.43477207e-05],\n",
       "        [-3.55028379e-05]]),\n",
       " 'W2': array([[ 0.10658026, -0.11521515, -0.07419812, -0.10346194]]),\n",
       " 'b2': array([[0.11723519]])}"
      ]
     },
     "execution_count": 21,
     "metadata": {},
     "output_type": "execute_result"
    }
   ],
   "source": [
    "params"
   ]
  },
  {
   "cell_type": "code",
   "execution_count": null,
   "id": "9eb03f18",
   "metadata": {},
   "outputs": [],
   "source": [
    "def predict(parameters, X):\n",
    "\n",
    "    A2, _ = forward_propagation(X, parameters)\n",
    "    predictions = (A2 > 0.5)\n",
    "    \n",
    "    return predictions"
   ]
  }
 ],
 "metadata": {
  "kernelspec": {
   "display_name": "myenv",
   "language": "python",
   "name": "python3"
  },
  "language_info": {
   "codemirror_mode": {
    "name": "ipython",
    "version": 3
   },
   "file_extension": ".py",
   "mimetype": "text/x-python",
   "name": "python",
   "nbconvert_exporter": "python",
   "pygments_lexer": "ipython3",
   "version": "3.12.5"
  }
 },
 "nbformat": 4,
 "nbformat_minor": 5
}
